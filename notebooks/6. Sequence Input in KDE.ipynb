{
 "cells": [
  {
   "cell_type": "code",
   "execution_count": 8,
   "metadata": {
    "slideshow": {
     "slide_type": "skip"
    }
   },
   "outputs": [
    {
     "name": "stdout",
     "output_type": "stream",
     "text": [
      "The autoreload extension is already loaded. To reload it, use:\n",
      "  %reload_ext autoreload\n"
     ]
    }
   ],
   "source": [
    "# ============================================================\n",
    "# Notebook setup: run this before everything\n",
    "# ============================================================\n",
    "\n",
    "%load_ext autoreload\n",
    "%autoreload 2\n",
    "\n",
    "# Control figure size\n",
    "interactive_figures = False\n",
    "if interactive_figures:\n",
    "    # Normal behavior\n",
    "    %matplotlib widget\n",
    "    figsize=(9, 3)\n",
    "else:\n",
    "    # PDF export behavior\n",
    "    figsize=(14, 4)\n",
    "\n",
    "from sklearn.neighbors import KernelDensity\n",
    "from sklearn.model_selection import GridSearchCV\n",
    "from util import nab\n",
    "import numpy as np\n",
    "from matplotlib import pyplot as plt\n",
    "import pandas as pd\n",
    "\n",
    "# Load data\n",
    "data_folder = '/app/data/nab'\n",
    "file_name = 'realKnownCause/nyc_taxi.csv'\n",
    "data, labels, windows = nab.load_series(file_name, data_folder)\n",
    "\n",
    "# Train and validation end\n",
    "train_end = pd.to_datetime('2014-10-24 00:00:00')\n",
    "val_end = pd.to_datetime('2014-12-10 00:00:00')\n",
    "\n",
    "# Cost model parameters\n",
    "c_alrm = 1 # Cost of investigating a false alarm\n",
    "c_missed = 10 # Cost of missing an anomaly\n",
    "c_late = 5 # Cost for late detection\n",
    "\n",
    "# Build a cost model\n",
    "cmodel = nab.ADSimpleCostModel(c_alrm, c_missed, c_late)\n",
    "\n",
    "# Separate the training data\n",
    "data_tr = data[data.index < train_end]\n",
    "\n",
    "# Apply a sliding window\n",
    "wdata = nab.sliding_window_1D(data, wlen=48)"
   ]
  },
  {
   "cell_type": "markdown",
   "metadata": {
    "slideshow": {
     "slide_type": "slide"
    }
   },
   "source": [
    "# Sequence Input in KDE"
   ]
  },
  {
   "cell_type": "markdown",
   "metadata": {
    "slideshow": {
     "slide_type": "subslide"
    }
   },
   "source": [
    "## Sequence Input in KDE\n",
    "\n",
    "**Can we take sequence input into account in KDE?**\n",
    "\n",
    "There is straightforward approach, using _multivariate_ KDE\n",
    "\n",
    "* Treat each sequence as a _vector variable_\n",
    "* Learn an estimator as usual\n",
    "\n",
    "**Individual _sequences_ in the new dataset are treated as _independent_:**\n",
    "\n",
    "* This is due to the basic assumptions behind KDE\n",
    "* In practice, for a sufficiently high window length\n",
    "* ...The dependencies become _negligible_\n",
    "\n",
    "**Does it sound familiar?**"
   ]
  },
  {
   "cell_type": "markdown",
   "metadata": {
    "slideshow": {
     "slide_type": "fragment"
    }
   },
   "source": [
    "This is simply the [Markov property](https://en.wikipedia.org/wiki/Markov_property)!"
   ]
  },
  {
   "cell_type": "markdown",
   "metadata": {
    "slideshow": {
     "slide_type": "subslide"
    }
   },
   "source": [
    "## Bandwidth Choice in Multivariate KDE\n",
    "\n",
    "**We now need to learn our multivariate KDE estimator**\n",
    "\n",
    "First, we need to choose a bandwidth\n",
    "\n",
    "* We cannot use the (univariate) rule of thumb\n",
    "* ...But we can use a more general approach"
   ]
  },
  {
   "cell_type": "markdown",
   "metadata": {},
   "source": [
    "**The basic intuition is that a good bandwidth**\n",
    "\n",
    "...Will make the actual data register as _more likely_\n",
    "\n",
    "* Therefore we can pick a _validation set_\n",
    "* ...And tune the bandwidth for _maximum likelihood_\n",
    "\n",
    "To avoid overfitting, there should be _no overlap with the training data_"
   ]
  },
  {
   "cell_type": "markdown",
   "metadata": {
    "slideshow": {
     "slide_type": "subslide"
    }
   },
   "source": [
    "## Bandwidth Choice in Multivariate KDE\n",
    "\n",
    "**Formally, let $\\tilde{x}$ be a _validation_ set of $m$ examples:**\n",
    "\n",
    "Assuming independent observations, its likelihood is:\n",
    "\n",
    "$$L(\\tilde{\\bf x}, \\hat{\\bf x}, h) = \\prod_{i=1}^m f(\\tilde{x}_i, \\hat{\\bf x}, h)$$\n",
    "\n",
    "The _likelihood_ is the estimated probability of a sample\n",
    "\n",
    "* ...As a function of the _model parameters_\n",
    "* $f$ is the density estimator (which outputs a probability)\n",
    "* $\\hat{\\bf x}$ the training set, $h$ is the bandwidth\n"
   ]
  },
  {
   "cell_type": "markdown",
   "metadata": {
    "slideshow": {
     "slide_type": "subslide"
    }
   },
   "source": [
    "## Bandwidth Choice in Multivariate KDE\n",
    "\n",
    "**We can then choose $h$ so as to _maximize the likelihood_**\n",
    "\n",
    "Meaning that the training problem is given by:\n",
    "\n",
    "$$\\mathop{\\arg\\max}_{h} \\mathbb{E}_{\\tilde{x} \\sim \\mathcal{D}}\\left[ L(\\tilde{\\bf x}, \\hat{\\bf x}, h)\\right]$$\n",
    "\n",
    "* Where $\\mathcal{D}$ is ideally the true distribution\n",
    "\n",
    "**As many training problem, it cannot be solved in an exact fashion**\n",
    "\n",
    "* Instead we will approximate $\\mathbb{E}$ by sampling multiple $\\tilde{x}$\n",
    "* ...And pick the bandwidth $h^*$ leading to the maximum average likelihood\n",
    "\n",
    "In a pinch, we could even use a single $\\tilde{x}$"
   ]
  },
  {
   "cell_type": "markdown",
   "metadata": {
    "slideshow": {
     "slide_type": "subslide"
    }
   },
   "source": [
    "## Bandwidth Choice in Multivariate KDE\n",
    "\n",
    "**A simple approach consist in using _grid search_**\n",
    "\n",
    "* It's the same approach that we used for optimizing the threshold\n",
    "* scikit learn provides a convenient implementation\n",
    "* ...Which resorts to cross-fold validation to define $\\tilde{x}$\n",
    "\n",
    "First, we separate the training set as usual:"
   ]
  },
  {
   "cell_type": "code",
   "execution_count": 2,
   "metadata": {},
   "outputs": [],
   "source": [
    "wdata_tr = wdata[wdata.index < train_end]"
   ]
  },
  {
   "cell_type": "markdown",
   "metadata": {},
   "source": [
    "Then we specify the values we want to consider for each parameter:"
   ]
  },
  {
   "cell_type": "code",
   "execution_count": 3,
   "metadata": {},
   "outputs": [],
   "source": [
    "params = {'bandwidth': np.linspace(1000, 1200, 20)}"
   ]
  },
  {
   "cell_type": "markdown",
   "metadata": {
    "slideshow": {
     "slide_type": "subslide"
    }
   },
   "source": [
    "## Training Multivariate KDE\n",
    "\n",
    "**Finally, we can run the grid search routine**"
   ]
  },
  {
   "cell_type": "code",
   "execution_count": 4,
   "metadata": {},
   "outputs": [
    {
     "data": {
      "text/plain": [
       "{'bandwidth': 1010.5263157894736}"
      ]
     },
     "execution_count": 4,
     "metadata": {},
     "output_type": "execute_result"
    }
   ],
   "source": [
    "gs_kde = GridSearchCV(KernelDensity(kernel='gaussian'), params, cv = 5)\n",
    "gs_kde.fit(wdata_tr)\n",
    "gs_kde.best_params_"
   ]
  },
  {
   "cell_type": "markdown",
   "metadata": {},
   "source": [
    "* `cv` is the number of folds\n",
    "* After training, `GridSearchCV` acts as a proxy for the best estimator\n",
    "\n",
    "**This is an _expensive operation_**\n",
    "\n",
    "* We need to test multiple bandwidth values\n",
    "* For each one, we need to perform cross-validation\n",
    "* ...And finally _adding dimensions makes KDE slower_"
   ]
  },
  {
   "cell_type": "markdown",
   "metadata": {
    "slideshow": {
     "slide_type": "subslide"
    }
   },
   "source": [
    "## Sequences via Multivariate KDE\n",
    "\n",
    "**Now we can use the best estimator to generate the alarm signal**"
   ]
  },
  {
   "cell_type": "code",
   "execution_count": 5,
   "metadata": {},
   "outputs": [
    {
     "data": {
      "image/png": "[encoded data removed]",
      "text/plain": [
       "<Figure size 1400x400 with 1 Axes>"
      ]
     },
     "metadata": {},
     "output_type": "display_data"
    }
   ],
   "source": [
    "ldens = gs_kde.score_samples(wdata)\n",
    "signal = pd.Series(index=wdata.index, data=-ldens)\n",
    "nab.plot_series(signal, labels, windows, figsize=figsize)"
   ]
  },
  {
   "cell_type": "markdown",
   "metadata": {},
   "source": [
    "* The signal seems _much better_ than before (but a bit noisy)"
   ]
  },
  {
   "cell_type": "markdown",
   "metadata": {
    "slideshow": {
     "slide_type": "subslide"
    }
   },
   "source": [
    "## Threshold Optimization\n",
    "\n",
    "**Finally, we can do threshold optimization as usual**"
   ]
  },
  {
   "cell_type": "code",
   "execution_count": 6,
   "metadata": {},
   "outputs": [
    {
     "name": "stdout",
     "output_type": "stream",
     "text": [
      "Best threshold: 527.2727272727273, corresponding cost: 5\n"
     ]
    }
   ],
   "source": [
    "signal_opt = signal[signal.index < val_end]\n",
    "labels_opt = labels[labels < val_end]\n",
    "windows_opt = windows[windows['end'] < val_end]\n",
    "thr_range = np.linspace(300, 600, 100)\n",
    "\n",
    "best_thr, best_cost = nab.opt_thr(signal_opt, labels_opt, windows_opt,  cmodel, thr_range)\n",
    "print(f'Best threshold: {best_thr}, corresponding cost: {best_cost}')"
   ]
  },
  {
   "cell_type": "markdown",
   "metadata": {},
   "source": [
    "Cost on the whole dataset"
   ]
  },
  {
   "cell_type": "code",
   "execution_count": 7,
   "metadata": {},
   "outputs": [
    {
     "name": "stdout",
     "output_type": "stream",
     "text": [
      "Cost on the whole dataset 22\n"
     ]
    }
   ],
   "source": [
    "ctst = cmodel.cost(signal, labels, windows, best_thr)\n",
    "print(f'Cost on the whole dataset {ctst}')"
   ]
  }
 ],
 "metadata": {
  "celltoolbar": "Slideshow",
  "kernelspec": {
   "display_name": "Python 3 (ipykernel)",
   "language": "python",
   "name": "python3"
  },
  "language_info": {
   "codemirror_mode": {
    "name": "ipython",
    "version": 3
   },
   "file_extension": ".py",
   "mimetype": "text/x-python",
   "name": "python",
   "nbconvert_exporter": "python",
   "pygments_lexer": "ipython3",
   "version": "3.8.14"
  },
  "rise": {
   "center": false,
   "transition": "fade"
  },
  "widgets": {
   "application/vnd.jupyter.widget-state+json": {
    "state": {},
    "version_major": 2,
    "version_minor": 0
   }
  }
 },
 "nbformat": 4,
 "nbformat_minor": 4
}
