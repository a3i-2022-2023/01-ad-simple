{
 "cells": [
  {
   "cell_type": "markdown",
   "metadata": {
    "slideshow": {
     "slide_type": "slide"
    }
   },
   "source": [
    "# AI in Industry"
   ]
  },
  {
   "cell_type": "markdown",
   "metadata": {
    "slideshow": {
     "slide_type": "subslide"
    }
   },
   "source": [
    "## An Oddball\n",
    "\n",
    "**This is a strange course**\n",
    "\n",
    "For most courses, it's easy to figure out what to expect:\n",
    "\n",
    "* \"Fundamentals of Artificial Intelligence and Knowledge Representation\"\n",
    "* \"Introduction to Algorithms and Programming\"\n",
    "* \"Statistical and Mathematical Methods for Artificial Intelligence\"\n",
    "* \"Machine Learning\"\n",
    "* \"Deep Learning\"\n",
    "* \"Combinatorial Decision Making and Optimization\"\n",
    "* ...\n",
    "\n",
    "**...But what for something called \"AI in Industry\"**"
   ]
  },
  {
   "cell_type": "markdown",
   "metadata": {
    "slideshow": {
     "slide_type": "subslide"
    }
   },
   "source": [
    "<div class=big>What do we mean by \"industry\"?</div>"
   ]
  },
  {
   "cell_type": "markdown",
   "metadata": {
    "slideshow": {
     "slide_type": "subslide"
    }
   },
   "source": [
    "## Industry\n",
    "\n",
    "**This is industry**\n",
    "\n",
    "<center><img src=\"assets/BN-SA653_BUYAME_GR_20170209110043.jpg\"/></center>"
   ]
  },
  {
   "cell_type": "markdown",
   "metadata": {
    "slideshow": {
     "slide_type": "subslide"
    }
   },
   "source": [
    "## Industry\n",
    "\n",
    "**This is also industry**\n",
    "\n",
    "<center><img src=\"assets/transports.jpg\" width=80%/></center>"
   ]
  },
  {
   "cell_type": "markdown",
   "metadata": {
    "slideshow": {
     "slide_type": "subslide"
    }
   },
   "source": [
    "## Industry\n",
    "\n",
    "**This is also industry**\n",
    "\n",
    "<center><img src=\"assets/res.jpg\" width=80%/></center>"
   ]
  },
  {
   "cell_type": "markdown",
   "metadata": {
    "slideshow": {
     "slide_type": "subslide"
    }
   },
   "source": [
    "## Industry\n",
    "\n",
    "**This is also industry**\n",
    "\n",
    "<center><img src=\"assets/hospital.jpg\" width=80%/></center>"
   ]
  },
  {
   "cell_type": "markdown",
   "metadata": {
    "slideshow": {
     "slide_type": "subslide"
    }
   },
   "source": [
    "## Industry\n",
    "\n",
    "**We will talk about industry in a _broad_ sense:**\n",
    "\n",
    "* Factories of course, but also...\n",
    "* Transportation companies\n",
    "* Power systems\n",
    "* Healthcare\n",
    "* Product design\n",
    "* Smart cities\n",
    "* Policy management\n",
    "* ...\n",
    "\n",
    "Basically any activity that can generate _value_\n",
    "\n",
    "**What can AI do in this context?**"
   ]
  },
  {
   "cell_type": "markdown",
   "metadata": {
    "slideshow": {
     "slide_type": "subslide"
    }
   },
   "source": [
    "## Business Analytics\n",
    "\n",
    "**A good starting point: _business analytics_ models**\n",
    "\n",
    "<center><img src=\"assets/ba_ascendancy.jpg\" width=\"80%\"/></center>"
   ]
  },
  {
   "cell_type": "markdown",
   "metadata": {
    "slideshow": {
     "slide_type": "subslide"
    }
   },
   "source": [
    "## Business Analytics\n",
    "\n",
    "**In terms of how far we push automation:**\n",
    "\n",
    "<center><img src=\"assets/framework_092013.gif\" width=\"800px\"/></center>"
   ]
  },
  {
   "cell_type": "markdown",
   "metadata": {
    "slideshow": {
     "slide_type": "subslide"
    }
   },
   "source": [
    "## Order and Chaos\n",
    "\n",
    "**This is simple and useful characterization**\n",
    "\n",
    "...But the truth is more like this!\n",
    "\n",
    "<center><img src=\"assets/mess.jpg\" width=\"60%\"/></center>"
   ]
  },
  {
   "cell_type": "markdown",
   "metadata": {
    "slideshow": {
     "slide_type": "subslide"
    }
   },
   "source": [
    "## Order and Chaos\n",
    "\n",
    "**Industrial applications are _complicated_**\n",
    "\n",
    "* The problems are not well defined\n",
    "* Similar techniques may be applied in multiple settings\n",
    "* ...And with different names\n",
    "* Classical tasks typically only part of the whole problem\n",
    "* It is often necessary to combine problems/techniques\n",
    "* ...\n",
    "\n",
    "> A common opinion: <br>**try something, then add tweaks untile the problem is solved**"
   ]
  },
  {
   "cell_type": "markdown",
   "metadata": {
    "slideshow": {
     "slide_type": "subslide"
    }
   },
   "source": [
    "## Order and Chaos\n",
    "\n",
    "**...But this is evil!**\n",
    "\n",
    "<center><img src=\"assets/palpatine.jpg\" width=\"70%\"/></center>"
   ]
  },
  {
   "cell_type": "markdown",
   "metadata": {
    "slideshow": {
     "slide_type": "subslide"
    }
   },
   "source": [
    "## Order and Chaos\n",
    "\n",
    "**...But this is evil!**\n",
    "\n",
    "Specifically, it reaches a plateau real quick:\n",
    "\n",
    "* If you get lucky, you solve your problem and you do it fast\n",
    "* But more often than not:\n",
    "  - You fail, and you don't understand why\n",
    "  - You end up with a much messier solution than needed\n",
    "  - You approach works on test data, but not in the field\n",
    "\n",
    "More critically, you do not really improve your knowledge and skill\n",
    "\n",
    "> **Our goal will be to bring _a measure of order_ to the chaos**\n",
    "\n",
    "Which is actually impossible, but still the right goal to pursue"
   ]
  },
  {
   "cell_type": "markdown",
   "metadata": {
    "slideshow": {
     "slide_type": "slide"
    }
   },
   "source": [
    "# What to Expect"
   ]
  },
  {
   "cell_type": "markdown",
   "metadata": {
    "slideshow": {
     "slide_type": "subslide"
    }
   },
   "source": [
    "## How I am Going to Play It\n",
    "\n",
    "**I am going to follow a few guiding principles**\n",
    "\n",
    "> **_How:_ Examples! I.e. Use Cases**\n",
    "\n",
    "* Every few lectures we will introduce _a new use case_\n",
    "* They will be _simplified_ industrial problems\n",
    "  * Real industrial problems would take too much to tackle\n",
    "  * ...Not to mention they are subject to NdAs ;-)\n",
    "* They will nevertheless be _representative_\n",
    "* Some uses cases will be covered in _seminars_ by industrial partners"
   ]
  },
  {
   "cell_type": "markdown",
   "metadata": {
    "slideshow": {
     "slide_type": "subslide"
    }
   },
   "source": [
    "## How I am Going to Play It\n",
    "\n",
    "**I am going to follow a few guiding principles**\n",
    "\n",
    "> **_What:_ techniques, best practices, formalization**\n",
    "\n",
    "* Mostly: how to _methodically tackle_ a new problem\n",
    "* But we will also introduce _new techniques_\n",
    "* ...Ways to _apply_ known techniques\n",
    "* ...Ways to _combine_ known techniques\n",
    "* ...Some (light) software engineering\n",
    "* ...And how to _formalize_ problems and ideas"
   ]
  },
  {
   "cell_type": "markdown",
   "metadata": {
    "slideshow": {
     "slide_type": "subslide"
    }
   },
   "source": [
    "## How I am Going to Play It\n",
    "\n",
    "**I am going to follow a few guiding principles**\n",
    "\n",
    "> **_Why:_ you should be able to _handle real world problems_ and do it _better than most_**\n",
    "\n",
    "* Problems/solutions are often poorly understood\n",
    "  - Formalizing is the first step towards understanding\n",
    "* Different problems call for different tools\n",
    "  - Using (say) ML for everything is just _inefficient_\n",
    "* Many people can apply \"boilerplate\", mainstream AI method\n",
    "  - ...But much fewer are capable of _combining_ them"
   ]
  },
  {
   "cell_type": "markdown",
   "metadata": {
    "slideshow": {
     "slide_type": "subslide"
    }
   },
   "source": [
    "## On the Art of Cooking\n",
    "\n",
    "**At some point, the course will start feeling like a cookbook**\n",
    "\n",
    "<center><img src=\"assets/cucchiaio.jpg\" width=\"450px\"/></center>\n",
    "\n",
    "When you get there, there is _one thing you should remember_"
   ]
  },
  {
   "cell_type": "markdown",
   "metadata": {
    "slideshow": {
     "slide_type": "subslide"
    }
   },
   "source": [
    "## On the Art of Cooking\n",
    "\n",
    "**Most people read cookbooks to follow recipes**\n",
    "\n",
    "<center><img src=\"assets/man-cooking.jpg\" width=\"850px\"/></center>"
   ]
  },
  {
   "cell_type": "markdown",
   "metadata": {
    "slideshow": {
     "slide_type": "subslide"
    }
   },
   "source": [
    "## On the Art of Cooking\n",
    "\n",
    "**...But _true chefs_ read cookbooks to find _ideas_** \n",
    "\n",
    "<center><img src=\"assets/true-chef.JPG\" width=\"400px\"/></center>"
   ]
  },
  {
   "cell_type": "markdown",
   "metadata": {
    "slideshow": {
     "slide_type": "subslide"
    }
   },
   "source": [
    "## Two Parts\n",
    "\n",
    "**The course can be roughly divided in two parts** \n",
    "\n",
    "In the _first part_ we will (mostly):\n",
    "\n",
    "* cover simpler techniques\n",
    "* make sure that we use known tools properly\n",
    "* learn to look at a problem as a whole\n",
    "\n",
    "In the _second part_ we will:\n",
    "\n",
    "* cover more advanced techniques\n",
    "* bend known techniques so as to make them behave as we wish\n",
    "* learn how to combine heterogeneous information\n",
    "* learn how to combine heterogeneous techniques"
   ]
  },
  {
   "cell_type": "markdown",
   "metadata": {
    "slideshow": {
     "slide_type": "slide"
    }
   },
   "source": [
    "# Technical Information"
   ]
  },
  {
   "cell_type": "markdown",
   "metadata": {
    "slideshow": {
     "slide_type": "subslide"
    }
   },
   "source": [
    "## Teachers\n",
    "\n",
    "**Teacher:**\n",
    "\n",
    "* Michele Lombardi (<michele.lombardi@unibo.it>)\n",
    "* Office:\n",
    "  - Phone: 051 2093270\n",
    "  - Close to teaching room 5.7 (look for a yellow door)\n",
    "* Reception hours: on appointment (send an email)\n",
    "\n",
    "**Tutor:**\n",
    "\n",
    "* Luca Giuliani (<luca.giuliani13@unibo.it>)\n",
    "* Assistance with projects and questions\n",
    "* Reception hours: on appointment (send an email)"
   ]
  },
  {
   "cell_type": "markdown",
   "metadata": {
    "slideshow": {
     "slide_type": "subslide"
    }
   },
   "source": [
    "## Course Material\n",
    "\n",
    "**Reference: [course web site on virtuale.unibo.it](https://virtuale.unibo.it/course/view.php?id=40278)**\n",
    "\n",
    "* Jupyter notebooks\n",
    "  - Distributed via gihub, using Docker containers\n",
    "  - You should try installing Docker (there are <a href=\"https://virtuale.unibo.it/mod/page/view.php?id=978266\">instructions on the course web site</a>\n",
    "* PDF notes (also included in the container)\n",
    "* Recorded lectures (links on the web site)\n",
    "\n",
    "**This course changes (a bit) every year**\n",
    "\n",
    "* The good part: the course will _grow with you_\n",
    "* The bad part: lecture material will typically arrive one/two days early at most"
   ]
  },
  {
   "cell_type": "markdown",
   "metadata": {
    "slideshow": {
     "slide_type": "subslide"
    }
   },
   "source": [
    "## Exam\n",
    "\n",
    "**The exam will consist of _a project_:**\n",
    "\n",
    "* You can _propose a topic_\n",
    "* ...Or _pick one_ from the list on <a href=\"https://lia-unibo.github.io/\">https://lia-unibo.github.io/</a>\n",
    "* In both case, the topic must be _discussed with the teacher_ before starting\n",
    "* Groups of 1-3 students tend to work best\n",
    "\n",
    "An advice: _wait until at least mid course_ before choosing\n",
    "\n",
    "**The students will need to:**\n",
    "\n",
    "* Deliver the project code\n",
    "* Give a presentation\n",
    "* Be prepared to discuss their work\n"
   ]
  },
  {
   "cell_type": "markdown",
   "metadata": {
    "slideshow": {
     "slide_type": "subslide"
    }
   },
   "source": [
    "## Exam\n",
    "\n",
    "**The evaluation**\n",
    "\n",
    "* Will _not_ focus on how successful your results\n",
    "* ...But on _how you reached them_\n",
    "* This means I will evaluate\n",
    "  - Why you made the choices you made\n",
    "  - How you have interpreted the results\n",
    "  - What you can infer"
   ]
  },
  {
   "cell_type": "markdown",
   "metadata": {
    "slideshow": {
     "slide_type": "subslide"
    }
   },
   "source": [
    "## Exam\n",
    "\n",
    "**About the _optional 3 credits project_**\n",
    "\n",
    "* Usually, this will be _a follow-up of the exam work_\n",
    "* Same structure for the evaluation\n",
    "  - I.e. code, presentation, and discussion\n",
    "* But there are no grades\n",
    "  - Usually, when you present it means you already passed\n",
    "  - ...I'll stop you earlier if this is not the case ;-)"
   ]
  }
 ],
 "metadata": {
  "celltoolbar": "Slideshow",
  "kernelspec": {
   "display_name": "Python 3 (ipykernel)",
   "language": "python",
   "name": "python3"
  },
  "language_info": {
   "codemirror_mode": {
    "name": "ipython",
    "version": 3
   },
   "file_extension": ".py",
   "mimetype": "text/x-python",
   "name": "python",
   "nbconvert_exporter": "python",
   "pygments_lexer": "ipython3",
   "version": "3.8.14"
  },
  "rise": {
   "center": false,
   "transition": "fade"
  }
 },
 "nbformat": 4,
 "nbformat_minor": 4
}
