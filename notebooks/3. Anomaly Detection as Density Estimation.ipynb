{
 "cells": [
  {
   "cell_type": "code",
   "execution_count": 1,
   "metadata": {
    "slideshow": {
     "slide_type": "skip"
    }
   },
   "outputs": [],
   "source": [
    "# ============================================================\n",
    "# Notebook setup: run this before everything\n",
    "# ============================================================\n",
    "\n",
    "%load_ext autoreload\n",
    "%autoreload 2\n",
    "\n",
    "# Control figure size\n",
    "interactive_figures = False\n",
    "if interactive_figures:\n",
    "    # Normal behavior\n",
    "    %matplotlib widget\n",
    "    figsize=(9, 3)\n",
    "else:\n",
    "    # PDF export behavior\n",
    "    figsize=(14, 5)\n",
    "\n",
    "from sklearn.neighbors import KernelDensity\n",
    "from util import nab\n",
    "import numpy as np\n",
    "from matplotlib import pyplot as plt\n",
    "\n",
    "data_folder = '../data/nab'\n",
    "file_name = 'realKnownCause/nyc_taxi.csv'\n",
    "data, labels, windows = nab.load_series(file_name, data_folder)"
   ]
  },
  {
   "cell_type": "markdown",
   "metadata": {
    "slideshow": {
     "slide_type": "slide"
    }
   },
   "source": [
    "# Anomaly Detection and Kernel Density Estimation"
   ]
  },
  {
   "cell_type": "markdown",
   "metadata": {
    "slideshow": {
     "slide_type": "subslide"
    }
   },
   "source": [
    "<div class=big>How do we formalize this problem?</div>"
   ]
  },
  {
   "cell_type": "markdown",
   "metadata": {
    "slideshow": {
     "slide_type": "subslide"
    }
   },
   "source": [
    "## Problem Formalization\n",
    "\n",
    "**A possible approach: we know that anomalies are (often) unlikely**\n",
    "\n",
    "* If we can estimate the probability of every occurring observation $x$\n",
    "* ...Then we can spot anomalies based on their _low probability_\n",
    "\n",
    "> **We turn a liability into a strenght!**"
   ]
  },
  {
   "cell_type": "markdown",
   "metadata": {
    "slideshow": {
     "slide_type": "subslide"
    }
   },
   "source": [
    "## Problem Formalization\n",
    "\n",
    "**We can check our intuition on our data**\n",
    "\n",
    "This is (roughly) the distribution _over all the data_"
   ]
  },
  {
   "cell_type": "code",
   "execution_count": 2,
   "metadata": {
    "scrolled": true
   },
   "outputs": [
    {
     "data": {
      "image/png": "[encoded data removed]",
      "text/plain": [
       "<Figure size 900x300 with 1 Axes>"
      ]
     },
     "metadata": {},
     "output_type": "display_data"
    }
   ],
   "source": [
    "vmax = data['value'].max()\n",
    "nab.plot_histogram(data['value'], vmax=vmax, bins=20)"
   ]
  },
  {
   "cell_type": "markdown",
   "metadata": {
    "slideshow": {
     "slide_type": "subslide"
    }
   },
   "source": [
    "## Problem Formalization\n",
    "\n",
    "**We can check our intuition on our data**\n",
    "\n",
    "This is (roughly) the distribution _around the first anomaly_:"
   ]
  },
  {
   "cell_type": "code",
   "execution_count": 3,
   "metadata": {
    "scrolled": true
   },
   "outputs": [
    {
     "data": {
      "image/png": "[encoded data removed]",
      "text/plain": [
       "<Figure size 900x300 with 1 Axes>"
      ]
     },
     "metadata": {},
     "output_type": "display_data"
    }
   ],
   "source": [
    "w0_start, w0_end = windows.loc[0]['begin'], windows.loc[0]['end']\n",
    "data_anomaly0 = data[(data.index >= w0_start) & (data.index < w0_end)]\n",
    "nab.plot_histogram(data_anomaly0['value'], vmax=vmax, bins=30)"
   ]
  },
  {
   "cell_type": "markdown",
   "metadata": {},
   "source": [
    "* It seems indeed that there's a significant difference"
   ]
  },
  {
   "cell_type": "markdown",
   "metadata": {
    "slideshow": {
     "slide_type": "subslide"
    }
   },
   "source": [
    "\n",
    "## Problem Formalization\n",
    "\n",
    "**How do we formalize this problem?**\n",
    "\n",
    "A possible approach: we know that anomalies are (often) unlikely\n",
    "\n",
    "* If we can estimate the probability of every occurring observation $x$\n",
    "* ...Then we can spot anomalies based on their _low probability_\n",
    "\n",
    "\n",
    "> **We turn a liability into a strength!**\n",
    "\n",
    "**Formally, our detection condition can be stated as:**\n",
    "\n",
    "$$\n",
    "f(x) \\leq \\theta\n",
    "$$\n",
    "\n",
    "* Where $f(x)$ is a _Probability Density Function (PDF)_\n",
    "* ...And $\\theta$ is a (scalar) threshold\n",
    "\n",
    "**What do we need to make this work?**"
   ]
  },
  {
   "cell_type": "markdown",
   "metadata": {
    "slideshow": {
     "slide_type": "subslide"
    }
   },
   "source": [
    "## Density Estimation\n",
    "\n",
    "**We need one way to _estimate probability densities_**\n",
    "\n",
    "For some random process with n-dimensional variable $x$:\n",
    "\n",
    "* Given the true density function $f^*(x): \\mathbb{R}^n \\rightarrow \\mathbb{R}^+$\n",
    "* ...And a second function $f(x, \\omega)$ with the same input, and parameters $\\omega$\n",
    "\n",
    "We want to _make the two as similar as possible_"
   ]
  },
  {
   "cell_type": "markdown",
   "metadata": {
    "slideshow": {
     "slide_type": "fragment"
    }
   },
   "source": [
    "**What about modeling that as supervised learning?**\n",
    "\n",
    "Given some suitable loss function $L({\\bf y}, {\\bf y^*})$, that would lead to:\n",
    "\n",
    "$$\n",
    "\\text{argmin}_{\\omega} L(f(\\hat{\\bf x}, \\omega), f^*(\\hat{\\bf x}))\n",
    "$$\n",
    "\n",
    "* where $\\hat{\\bf x}$ represents the training data"
   ]
  },
  {
   "cell_type": "markdown",
   "metadata": {
    "slideshow": {
     "slide_type": "subslide"
    }
   },
   "source": [
    "## Density Estimation\n",
    "\n",
    "**Unfortunately, this approach _cannot work_**\n",
    "\n",
    "...Because typically _we do not have access_ to the true density $f^*$\n",
    "\n",
    "> **Density estimation is an _unsupervised_ learning problem**\n",
    "\n",
    "**It can be solved via a number of techniques:**\n",
    "\n",
    "* Simple histograms\n",
    "* Kernel Density Estimation\n",
    "* Gaussian Mixture Models\n",
    "* [Normalizing Flows](https://arxiv.org/abs/1505.05770)\n",
    "* [Non Volume Preserving (NVP) transformations](https://arxiv.org/abs/1605.08803)\n",
    "\n",
    "**Which one shall we pick?**"
   ]
  },
  {
   "cell_type": "markdown",
   "metadata": {
    "slideshow": {
     "slide_type": "subslide"
    }
   },
   "source": [
    "## Our Friend, Occam's Razor\n",
    "\n",
    "**We will go with Occam's razor**\n",
    "\n",
    "It's a philosophical principle stating that:\n",
    "\n",
    "> **Between two hypotheses, the simpler one is usually correct**\n",
    "\n",
    "<center><img src=\"assets/dt980102dhc0.gif\" width=\"800px\"/></center>"
   ]
  },
  {
   "cell_type": "markdown",
   "metadata": {
    "slideshow": {
     "slide_type": "subslide"
    }
   },
   "source": [
    "## Our Friend, Occam's Razor\n",
    "\n",
    "**We will go with Occam's razor**\n",
    "\n",
    "It's a philosophical principle stating that:\n",
    "\n",
    "> **Between two hypotheses, the simpler one is usually correct**\n",
    "\n",
    "**For its simplicity we will pick _Kernel Density Estimation_**\n",
    "\n",
    "* This will be returning principle in the course\n",
    "* ...We will typically try _simpler approaches first_\n",
    "* Especially at the beginning! Brace up for a slow start"
   ]
  },
  {
   "cell_type": "markdown",
   "metadata": {
    "slideshow": {
     "slide_type": "slide"
    }
   },
   "source": [
    "# Kernel Density Estimation"
   ]
  },
  {
   "cell_type": "markdown",
   "metadata": {
    "slideshow": {
     "slide_type": "subslide"
    }
   },
   "source": [
    "## Kernal Density Estimation\n",
    "\n",
    "**In _Kernel Density Estimation (KDE)_, the main idea is that:**\n",
    "\n",
    "* Wherever (in input space) there is a sample\n",
    "* ...It's likely that there are more\n",
    "\n",
    "So, we assume that _each training sample is the center for a density \"kernel\"_"
   ]
  },
  {
   "cell_type": "markdown",
   "metadata": {
    "slideshow": {
     "slide_type": "-"
    }
   },
   "source": [
    "**Formally, the kernel $K(x, h)$ is just a valid PDF:**\n",
    "\n",
    "* $x$ is the input variable (scalar or vector)\n",
    "* $h$ is a parameter (resp. scalar or matrix) called _bandwidth_\n",
    "\n",
    "Typical kernels: Gaussian, exponential, cosine, linear..."
   ]
  },
  {
   "cell_type": "markdown",
   "metadata": {
    "slideshow": {
     "slide_type": "subslide"
    }
   },
   "source": [
    "## Kernels\n",
    "\n",
    "An example with one sample and a _Guassian_ kernel:"
   ]
  },
  {
   "cell_type": "code",
   "execution_count": 4,
   "metadata": {},
   "outputs": [
    {
     "data": {
      "image/png": "[encoded data removed]",
      "text/plain": [
       "<Figure size 900x300 with 1 Axes>"
      ]
     },
     "metadata": {},
     "output_type": "display_data"
    }
   ],
   "source": [
    "x = np.array(0.5).reshape(1,1) # single sample\n",
    "kde = KernelDensity(kernel='gaussian', bandwidth=0.1) # build the estimator\n",
    "kde.fit(x) # fit the estimator on the data\n",
    "# We use a plotting function from our module\n",
    "nab.plot_density_estimator_1D(kde, xr=np.linspace(0, 1, 200))\n",
    "ymin, ymax = plt.ylim()\n",
    "plt.vlines(x, ymin, ymax, color='tab:red')\n",
    "plt.ylim((ymin, ymax)); # ; = suppress output"
   ]
  },
  {
   "cell_type": "markdown",
   "metadata": {
    "slideshow": {
     "slide_type": "subslide"
    }
   },
   "source": [
    "## Kernels\n",
    "\n",
    "An example with one sample and a _Tophat_ kernel:"
   ]
  },
  {
   "cell_type": "code",
   "execution_count": 5,
   "metadata": {},
   "outputs": [
    {
     "data": {
      "image/png": "[encoded data removed]",
      "text/plain": [
       "<Figure size 900x300 with 1 Axes>"
      ]
     },
     "metadata": {},
     "output_type": "display_data"
    }
   ],
   "source": [
    "x = np.array(0.5).reshape(1,1) # single sample\n",
    "kde = KernelDensity(kernel='tophat', bandwidth=0.1) # build the estimator\n",
    "kde.fit(x) # fit the estimator on the data\n",
    "# We use a plotting function from our module\n",
    "nab.plot_density_estimator_1D(kde, xr=np.linspace(0, 1, 200))\n",
    "ymin, ymax = plt.ylim()\n",
    "plt.vlines(x, ymin, ymax, color='tab:red')\n",
    "plt.ylim((ymin, ymax)); # ; = suppress output"
   ]
  },
  {
   "cell_type": "markdown",
   "metadata": {
    "slideshow": {
     "slide_type": "subslide"
    }
   },
   "source": [
    "## Kernel\n",
    "\n",
    "An example with one sample and a _linear_ kernel:"
   ]
  },
  {
   "cell_type": "code",
   "execution_count": 6,
   "metadata": {},
   "outputs": [
    {
     "data": {
      "image/png": "[encoded data removed]",
      "text/plain": [
       "<Figure size 900x300 with 1 Axes>"
      ]
     },
     "metadata": {},
     "output_type": "display_data"
    }
   ],
   "source": [
    "x = np.array(0.5).reshape(1,1) # single sample\n",
    "kde = KernelDensity(kernel='linear', bandwidth=0.1) # build the estimator\n",
    "kde.fit(x) # fit the estimator on the data\n",
    "# We use a plotting function from our module\n",
    "nab.plot_density_estimator_1D(kde, xr=np.linspace(0, 1, 200))\n",
    "ymin, ymax = plt.ylim()\n",
    "plt.vlines(x, ymin, ymax, color='tab:red')\n",
    "plt.ylim((ymin, ymax)); # ; = suppress output"
   ]
  },
  {
   "cell_type": "markdown",
   "metadata": {
    "slideshow": {
     "slide_type": "subslide"
    }
   },
   "source": [
    "## Kernels\n",
    "\n",
    "**As an example, a _Gaussian kernel_ in sklearn is given by:**\n",
    "\n",
    "$$\n",
    "K(x, h) \\propto e^{-\\frac{x^2}{2h^2}}\n",
    "$$\n",
    "\n",
    "* The $\\propto$ (\"proportional to\")\n",
    "\n",
    "The function is similar to a the PDF of the Normal distribution:\n",
    "\n",
    "* The mean can be interpreted as $0$\n",
    "* $h$ plays the role of the standard deviation\n",
    "* ...And scikit learn handles normalization"
   ]
  },
  {
   "cell_type": "markdown",
   "metadata": {
    "slideshow": {
     "slide_type": "subslide"
    }
   },
   "source": [
    "## Kernel Re-centering\n",
    "\n",
    "**Since the \"mean\" is 0, the kernel is _centered on 0_**\n",
    "\n",
    "All kernels in KDE are by default _zero-centered_\n",
    "\n",
    "* ...But we need to place then over each sample\n",
    "* How can this be done?"
   ]
  },
  {
   "cell_type": "markdown",
   "metadata": {
    "slideshow": {
     "slide_type": "fragment"
    }
   },
   "source": [
    "**We can use an _affine transformation_ (like in the scale/location trick)**\n",
    "\n",
    "In practice, the expression:\n",
    "\n",
    "$$\n",
    "K(x - \\mu, h)\n",
    "$$\n",
    "\n",
    "* ...Gives the value the value of a kernel _centered on $\\mu$_\n",
    "* ...Computed for the value $x$\n"
   ]
  },
  {
   "cell_type": "markdown",
   "metadata": {
    "slideshow": {
     "slide_type": "subslide"
    }
   },
   "source": [
    "## Kernel Density Estimation\n",
    "\n",
    "**The estimated density of any point is obtained as a _kernel average_:**\n",
    "\n",
    "$$\n",
    "f(x, \\hat{\\bf x}, h) = \\frac{1}{m} \\sum_{i=0}^m K(x - \\hat{x}_i, h)\n",
    "$$\n",
    "\n",
    "* $x$ is the input for which we want an estimate\n",
    "* $\\hat{\\bf x}$ is the matrix with the training samples\n",
    "* $x - \\hat{x}_i$ is the difference between $x$ and the i-th training sample\n",
    "\n",
    "**Changing the kernel function:**\n",
    "\n",
    "* Allows to adjust the properties of the distribution (e.g. smoothness)\n",
    "* ...By exploiting our prior knowledge"
   ]
  },
  {
   "cell_type": "markdown",
   "metadata": {
    "slideshow": {
     "slide_type": "subslide"
    }
   },
   "source": [
    "## Kernel Density Estimation\n",
    "\n",
    "**KDE models are not trained in the usual sense**\n",
    "\n",
    "...But they store internally _all the training samples_\n",
    "\n",
    "* I.e. the training set is _part of the model parameters_\n",
    "* This is a property common to most kernel models"
   ]
  },
  {
   "cell_type": "markdown",
   "metadata": {
    "slideshow": {
     "slide_type": "fragment"
    }
   },
   "source": [
    "**There is one thing that we need to train, i.e. the bandwidth $h$**\n",
    "\n",
    "* We will see a general approach later in the course\n",
    "* ...But in the _univariate_ case we can apply a rule of thumb:\n",
    "\n",
    "$$h = 0.9 \\min\\left(\\hat{\\sigma}, \\frac{\\mathit{IQR}}{1.34}\\right) m^{-\\frac{1}{5}}$$\n",
    "\n",
    "Where $\\mathit{IQR}$ is the inter-quartile range"
   ]
  },
  {
   "cell_type": "markdown",
   "metadata": {
    "slideshow": {
     "slide_type": "subslide"
    }
   },
   "source": [
    "## Kernel Density Estimation\n",
    "\n",
    "An example with two samples and a Guassian kernel:"
   ]
  },
  {
   "cell_type": "code",
   "execution_count": 7,
   "metadata": {},
   "outputs": [
    {
     "data": {
      "image/png": "[encoded data removed]",
      "text/plain": [
       "<Figure size 900x300 with 1 Axes>"
      ]
     },
     "metadata": {},
     "output_type": "display_data"
    }
   ],
   "source": [
    "x = np.array([0.25, 0.75]).reshape(-1,1) # two sample, univariate\n",
    "kde = KernelDensity(kernel='gaussian', bandwidth=0.1) # build the estimator\n",
    "kde.fit(x) # fit the estimator on the data\n",
    "nab.plot_density_estimator_1D(kde, xr=np.linspace(0, 1, 200))\n",
    "ymin, ymax = plt.ylim()\n",
    "plt.vlines(x, ymin, ymax, color='tab:red')\n",
    "plt.ylim((ymin, ymax)); # ; = suppress output"
   ]
  }
 ],
 "metadata": {
  "celltoolbar": "Slideshow",
  "kernelspec": {
   "display_name": "Python 3 (ipykernel)",
   "language": "python",
   "name": "python3"
  },
  "language_info": {
   "codemirror_mode": {
    "name": "ipython",
    "version": 3
   },
   "file_extension": ".py",
   "mimetype": "text/x-python",
   "name": "python",
   "nbconvert_exporter": "python",
   "pygments_lexer": "ipython3",
   "version": "3.8.14"
  },
  "rise": {
   "center": false,
   "transition": "fade"
  },
  "widgets": {
   "application/vnd.jupyter.widget-state+json": {
    "state": {
     "078b85e99de04db883d1e0bcd2ea0fce": {
      "model_module": "@jupyter-widgets/base",
      "model_module_version": "1.2.0",
      "model_name": "LayoutModel",
      "state": {}
     },
     "08ad7f875a1646e09ddcfb6447fcf769": {
      "model_module": "jupyter-matplotlib",
      "model_module_version": "^0.7.4",
      "model_name": "ToolbarModel",
      "state": {
       "layout": "IPY_MODEL_abe9427bba95488399bc899210d7efc8",
       "toolitems": [
        [
         "Home",
         "Reset original view",
         "home",
         "home"
        ],
        [
         "Back",
         "Back to previous view",
         "arrow-left",
         "back"
        ],
        [
         "Forward",
         "Forward to next view",
         "arrow-right",
         "forward"
        ],
        [
         "Pan",
         "Left button pans, Right button zooms\nx/y fixes axis, CTRL fixes aspect",
         "arrows",
         "pan"
        ],
        [
         "Zoom",
         "Zoom to rectangle\nx/y fixes axis, CTRL fixes aspect",
         "square-o",
         "zoom"
        ],
        [
         "Download",
         "Download plot",
         "floppy-o",
         "save_figure"
        ]
       ]
      }
     },
     "0e1ad981162646619b31cbc9bf706f6e": {
      "model_module": "@jupyter-widgets/base",
      "model_module_version": "1.2.0",
      "model_name": "LayoutModel",
      "state": {}
     },
     "20dc1fcf6a6049ceadcaaa952167927d": {
      "model_module": "jupyter-matplotlib",
      "model_module_version": "^0.7.4",
      "model_name": "ToolbarModel",
      "state": {
       "layout": "IPY_MODEL_a5b7e95317d64cdf9bf43ab7fd435046",
       "toolitems": [
        [
         "Home",
         "Reset original view",
         "home",
         "home"
        ],
        [
         "Back",
         "Back to previous view",
         "arrow-left",
         "back"
        ],
        [
         "Forward",
         "Forward to next view",
         "arrow-right",
         "forward"
        ],
        [
         "Pan",
         "Left button pans, Right button zooms\nx/y fixes axis, CTRL fixes aspect",
         "arrows",
         "pan"
        ],
        [
         "Zoom",
         "Zoom to rectangle\nx/y fixes axis, CTRL fixes aspect",
         "square-o",
         "zoom"
        ],
        [
         "Download",
         "Download plot",
         "floppy-o",
         "save_figure"
        ]
       ]
      }
     },
     "4a2493b4c8c74e95882c9e3edd08ec9b": {
      "model_module": "jupyter-matplotlib",
      "model_module_version": "^0.7.4",
      "model_name": "ToolbarModel",
      "state": {
       "layout": "IPY_MODEL_a2fa3b4f7a2e404fbca03775a8dd9a24",
       "toolitems": [
        [
         "Home",
         "Reset original view",
         "home",
         "home"
        ],
        [
         "Back",
         "Back to previous view",
         "arrow-left",
         "back"
        ],
        [
         "Forward",
         "Forward to next view",
         "arrow-right",
         "forward"
        ],
        [
         "Pan",
         "Left button pans, Right button zooms\nx/y fixes axis, CTRL fixes aspect",
         "arrows",
         "pan"
        ],
        [
         "Zoom",
         "Zoom to rectangle\nx/y fixes axis, CTRL fixes aspect",
         "square-o",
         "zoom"
        ],
        [
         "Download",
         "Download plot",
         "floppy-o",
         "save_figure"
        ]
       ]
      }
     },
     "4ee7a4be030146fc9b7c16d089273840": {
      "model_module": "@jupyter-widgets/base",
      "model_module_version": "1.2.0",
      "model_name": "LayoutModel",
      "state": {}
     },
     "55778b695912452490593943c298e431": {
      "model_module": "@jupyter-widgets/base",
      "model_module_version": "1.2.0",
      "model_name": "LayoutModel",
      "state": {}
     },
     "68028cab35d749ec81a31d5a2cee5ebb": {
      "model_module": "jupyter-matplotlib",
      "model_module_version": "^0.7.4",
      "model_name": "ToolbarModel",
      "state": {
       "layout": "IPY_MODEL_a11d07cbdded4d669a876496922311d3",
       "toolitems": [
        [
         "Home",
         "Reset original view",
         "home",
         "home"
        ],
        [
         "Back",
         "Back to previous view",
         "arrow-left",
         "back"
        ],
        [
         "Forward",
         "Forward to next view",
         "arrow-right",
         "forward"
        ],
        [
         "Pan",
         "Left button pans, Right button zooms\nx/y fixes axis, CTRL fixes aspect",
         "arrows",
         "pan"
        ],
        [
         "Zoom",
         "Zoom to rectangle\nx/y fixes axis, CTRL fixes aspect",
         "square-o",
         "zoom"
        ],
        [
         "Download",
         "Download plot",
         "floppy-o",
         "save_figure"
        ]
       ]
      }
     },
     "69073ff191e24415a1bb75991ef82ae0": {
      "model_module": "jupyter-matplotlib",
      "model_module_version": "^0.7.4",
      "model_name": "ToolbarModel",
      "state": {
       "layout": "IPY_MODEL_0e1ad981162646619b31cbc9bf706f6e",
       "toolitems": [
        [
         "Home",
         "Reset original view",
         "home",
         "home"
        ],
        [
         "Back",
         "Back to previous view",
         "arrow-left",
         "back"
        ],
        [
         "Forward",
         "Forward to next view",
         "arrow-right",
         "forward"
        ],
        [
         "Pan",
         "Left button pans, Right button zooms\nx/y fixes axis, CTRL fixes aspect",
         "arrows",
         "pan"
        ],
        [
         "Zoom",
         "Zoom to rectangle\nx/y fixes axis, CTRL fixes aspect",
         "square-o",
         "zoom"
        ],
        [
         "Download",
         "Download plot",
         "floppy-o",
         "save_figure"
        ]
       ]
      }
     },
     "6c0ea065be7648beab999b6c065371bc": {
      "model_module": "@jupyter-widgets/base",
      "model_module_version": "1.2.0",
      "model_name": "LayoutModel",
      "state": {}
     },
     "893b39f69ab34a65aa9c0de718b96304": {
      "model_module": "jupyter-matplotlib",
      "model_module_version": "^0.7.4",
      "model_name": "ToolbarModel",
      "state": {
       "layout": "IPY_MODEL_4ee7a4be030146fc9b7c16d089273840",
       "toolitems": [
        [
         "Home",
         "Reset original view",
         "home",
         "home"
        ],
        [
         "Back",
         "Back to previous view",
         "arrow-left",
         "back"
        ],
        [
         "Forward",
         "Forward to next view",
         "arrow-right",
         "forward"
        ],
        [
         "Pan",
         "Left button pans, Right button zooms\nx/y fixes axis, CTRL fixes aspect",
         "arrows",
         "pan"
        ],
        [
         "Zoom",
         "Zoom to rectangle\nx/y fixes axis, CTRL fixes aspect",
         "square-o",
         "zoom"
        ],
        [
         "Download",
         "Download plot",
         "floppy-o",
         "save_figure"
        ]
       ]
      }
     },
     "8d51287fdf0248ac875e3b8eab5cd123": {
      "model_module": "@jupyter-widgets/base",
      "model_module_version": "1.2.0",
      "model_name": "LayoutModel",
      "state": {}
     },
     "95f4cfe184d44e27ac27d41000f8ec9a": {
      "model_module": "@jupyter-widgets/base",
      "model_module_version": "1.2.0",
      "model_name": "LayoutModel",
      "state": {}
     },
     "a11d07cbdded4d669a876496922311d3": {
      "model_module": "@jupyter-widgets/base",
      "model_module_version": "1.2.0",
      "model_name": "LayoutModel",
      "state": {}
     },
     "a2fa3b4f7a2e404fbca03775a8dd9a24": {
      "model_module": "@jupyter-widgets/base",
      "model_module_version": "1.2.0",
      "model_name": "LayoutModel",
      "state": {}
     },
     "a3d3108892d04ffc80ba74de433a0e24": {
      "model_module": "@jupyter-widgets/base",
      "model_module_version": "1.2.0",
      "model_name": "LayoutModel",
      "state": {}
     },
     "a5b7e95317d64cdf9bf43ab7fd435046": {
      "model_module": "@jupyter-widgets/base",
      "model_module_version": "1.2.0",
      "model_name": "LayoutModel",
      "state": {}
     },
     "abe9427bba95488399bc899210d7efc8": {
      "model_module": "@jupyter-widgets/base",
      "model_module_version": "1.2.0",
      "model_name": "LayoutModel",
      "state": {}
     },
     "afca5903df884d65ac2bfc02a431d6fd": {
      "model_module": "jupyter-matplotlib",
      "model_module_version": "^0.7.4",
      "model_name": "ToolbarModel",
      "state": {
       "layout": "IPY_MODEL_b2e5165108824f9db7ba2f22f984fc57",
       "toolitems": [
        [
         "Home",
         "Reset original view",
         "home",
         "home"
        ],
        [
         "Back",
         "Back to previous view",
         "arrow-left",
         "back"
        ],
        [
         "Forward",
         "Forward to next view",
         "arrow-right",
         "forward"
        ],
        [
         "Pan",
         "Left button pans, Right button zooms\nx/y fixes axis, CTRL fixes aspect",
         "arrows",
         "pan"
        ],
        [
         "Zoom",
         "Zoom to rectangle\nx/y fixes axis, CTRL fixes aspect",
         "square-o",
         "zoom"
        ],
        [
         "Download",
         "Download plot",
         "floppy-o",
         "save_figure"
        ]
       ]
      }
     },
     "b1a83985ea1f4b98b0dba5a2c98c83f7": {
      "model_module": "@jupyter-widgets/base",
      "model_module_version": "1.2.0",
      "model_name": "LayoutModel",
      "state": {}
     },
     "b256ad00a6984f6d8112a70afada6d31": {
      "model_module": "@jupyter-widgets/base",
      "model_module_version": "1.2.0",
      "model_name": "LayoutModel",
      "state": {}
     },
     "b2ac8ee1d40b4287bdab53bfc4ac63ae": {
      "model_module": "jupyter-matplotlib",
      "model_module_version": "^0.7.4",
      "model_name": "ToolbarModel",
      "state": {
       "layout": "IPY_MODEL_e4525c86808f404eb4dd5eff73872f1a",
       "toolitems": [
        [
         "Home",
         "Reset original view",
         "home",
         "home"
        ],
        [
         "Back",
         "Back to previous view",
         "arrow-left",
         "back"
        ],
        [
         "Forward",
         "Forward to next view",
         "arrow-right",
         "forward"
        ],
        [
         "Pan",
         "Left button pans, Right button zooms\nx/y fixes axis, CTRL fixes aspect",
         "arrows",
         "pan"
        ],
        [
         "Zoom",
         "Zoom to rectangle\nx/y fixes axis, CTRL fixes aspect",
         "square-o",
         "zoom"
        ],
        [
         "Download",
         "Download plot",
         "floppy-o",
         "save_figure"
        ]
       ]
      }
     },
     "b2e5165108824f9db7ba2f22f984fc57": {
      "model_module": "@jupyter-widgets/base",
      "model_module_version": "1.2.0",
      "model_name": "LayoutModel",
      "state": {}
     },
     "bb5ebea85c554c93a355b801b7af4d7f": {
      "model_module": "@jupyter-widgets/base",
      "model_module_version": "1.2.0",
      "model_name": "LayoutModel",
      "state": {}
     },
     "c65ae079668f4b6eba91d96193803329": {
      "model_module": "jupyter-matplotlib",
      "model_module_version": "^0.7.4",
      "model_name": "ToolbarModel",
      "state": {
       "layout": "IPY_MODEL_bb5ebea85c554c93a355b801b7af4d7f",
       "toolitems": [
        [
         "Home",
         "Reset original view",
         "home",
         "home"
        ],
        [
         "Back",
         "Back to previous view",
         "arrow-left",
         "back"
        ],
        [
         "Forward",
         "Forward to next view",
         "arrow-right",
         "forward"
        ],
        [
         "Pan",
         "Left button pans, Right button zooms\nx/y fixes axis, CTRL fixes aspect",
         "arrows",
         "pan"
        ],
        [
         "Zoom",
         "Zoom to rectangle\nx/y fixes axis, CTRL fixes aspect",
         "square-o",
         "zoom"
        ],
        [
         "Download",
         "Download plot",
         "floppy-o",
         "save_figure"
        ]
       ]
      }
     },
     "cc35ed68b95342b5a68cd206909c2928": {
      "model_module": "@jupyter-widgets/base",
      "model_module_version": "1.2.0",
      "model_name": "LayoutModel",
      "state": {}
     },
     "e4525c86808f404eb4dd5eff73872f1a": {
      "model_module": "@jupyter-widgets/base",
      "model_module_version": "1.2.0",
      "model_name": "LayoutModel",
      "state": {}
     }
    },
    "version_major": 2,
    "version_minor": 0
   }
  }
 },
 "nbformat": 4,
 "nbformat_minor": 4
}
